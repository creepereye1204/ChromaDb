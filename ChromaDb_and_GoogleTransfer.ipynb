{
  "nbformat": 4,
  "nbformat_minor": 0,
  "metadata": {
    "colab": {
      "provenance": []
    },
    "kernelspec": {
      "name": "python3",
      "display_name": "Python 3"
    },
    "language_info": {
      "name": "python"
    }
  },
  "cells": [
    {
      "cell_type": "code",
      "source": [
        "#필수 패키지 다운로드"
      ],
      "metadata": {
        "id": "ZbxqROb0q017"
      },
      "execution_count": null,
      "outputs": []
    },
    {
      "cell_type": "code",
      "source": [
        "!pip install googletrans==4.0.0rc1\n",
        "!pip install chromadb"
      ],
      "metadata": {
        "id": "lEz8s5TOncMt"
      },
      "execution_count": null,
      "outputs": []
    },
    {
      "cell_type": "code",
      "source": [
        "#DB연결"
      ],
      "metadata": {
        "id": "Ogevl0sarA2v"
      },
      "execution_count": null,
      "outputs": []
    },
    {
      "cell_type": "code",
      "source": [
        "import chromadb\n",
        "chroma_client = chromadb.Client()"
      ],
      "metadata": {
        "id": "VSZzp0fUokvM"
      },
      "execution_count": 9,
      "outputs": []
    },
    {
      "cell_type": "code",
      "source": [
        "#테이블 생성"
      ],
      "metadata": {
        "id": "KEsQ-ybsrFI9"
      },
      "execution_count": null,
      "outputs": []
    },
    {
      "cell_type": "code",
      "source": [
        "collection = chroma_client.create_collection(name=\"my_collection\")"
      ],
      "metadata": {
        "id": "go02Ivwnomg-"
      },
      "execution_count": 10,
      "outputs": []
    },
    {
      "cell_type": "code",
      "source": [
        "#데이터 추가"
      ],
      "metadata": {
        "id": "qWizvbq4rEwr"
      },
      "execution_count": null,
      "outputs": []
    },
    {
      "cell_type": "code",
      "source": [
        "collection.add(\n",
        "    documents=[\"마늘 1/2\", \"고추장\"],\n",
        "    ids=[\"마늘1/2\", \"고추장\"]\n",
        ")"
      ],
      "metadata": {
        "colab": {
          "base_uri": "https://localhost:8080/"
        },
        "id": "LPXlQkb3ooy0",
        "outputId": "1045e39d-7dc4-4e50-d2ae-08f81e095b58"
      },
      "execution_count": 21,
      "outputs": [
        {
          "output_type": "stream",
          "name": "stderr",
          "text": [
            "WARNING:chromadb.segment.impl.metadata.sqlite:Insert of existing embedding ID: 마늘1/2\n",
            "WARNING:chromadb.segment.impl.metadata.sqlite:Insert of existing embedding ID: 고추장\n",
            "WARNING:chromadb.segment.impl.vector.local_hnsw:Add of existing embedding ID: 마늘1/2\n",
            "WARNING:chromadb.segment.impl.vector.local_hnsw:Add of existing embedding ID: 고추장\n"
          ]
        }
      ]
    },
    {
      "cell_type": "code",
      "source": [
        "# collection.add(\n",
        "#     documents=[\"This is a document\", \"This is another document\"],\n",
        "#     metadatas=[{\"source\": \"my_source\"}, {\"source\": \"my_source\"}],\n",
        "#     ids=[\"id1\", \"id2\"]\n",
        "# )"
      ],
      "metadata": {
        "id": "dqrYMO9frJ5i"
      },
      "execution_count": null,
      "outputs": []
    },
    {
      "cell_type": "code",
      "source": [
        "#쿼리"
      ],
      "metadata": {
        "id": "f8HTEeryrM7J"
      },
      "execution_count": null,
      "outputs": []
    },
    {
      "cell_type": "code",
      "source": [
        "results = collection.query(\n",
        "    query_texts=[\"docu\"],\n",
        "    n_results=2\n",
        ")"
      ],
      "metadata": {
        "id": "GG-dPcsfo50k"
      },
      "execution_count": 28,
      "outputs": []
    },
    {
      "cell_type": "code",
      "source": [
        "results"
      ],
      "metadata": {
        "colab": {
          "base_uri": "https://localhost:8080/"
        },
        "id": "luVU1vuPpD1T",
        "outputId": "6fb0cf53-8ed1-4f3c-8233-070e384288ea"
      },
      "execution_count": 29,
      "outputs": [
        {
          "output_type": "execute_result",
          "data": {
            "text/plain": [
              "{'ids': [['id1', 'id2']],\n",
              " 'distances': [[1.281232476234436, 1.2888152599334717]],\n",
              " 'metadatas': [[{'source': 'my_source'}, {'source': 'my_source'}]],\n",
              " 'embeddings': None,\n",
              " 'documents': [['This is a document', 'This is another document']],\n",
              " 'uris': None,\n",
              " 'data': None}"
            ]
          },
          "metadata": {},
          "execution_count": 29
        }
      ]
    },
    {
      "cell_type": "code",
      "source": [
        "#번역기"
      ],
      "metadata": {
        "id": "uNI9jAprpICq"
      },
      "execution_count": null,
      "outputs": []
    },
    {
      "cell_type": "code",
      "source": [
        "from googletrans import Translator\n",
        "\n",
        "translator = Translator()\n",
        "\n",
        "def translate_text(text, src_lang, dest_lang):\n",
        "    result = translator.translate(text, src=src_lang, dest=dest_lang)\n",
        "    return result.text\n",
        "\n",
        "# 예시 사용법\n",
        "translated_text = translate_text('안녕하세요', 'ko', 'en')\n",
        "print(translated_text)  # 출력: 'Hello'"
      ],
      "metadata": {
        "colab": {
          "base_uri": "https://localhost:8080/"
        },
        "id": "-vPjcxbWqSmW",
        "outputId": "314c0c4d-6e08-4704-d700-79b8575eb35a"
      },
      "execution_count": 24,
      "outputs": [
        {
          "output_type": "stream",
          "name": "stdout",
          "text": [
            "hello\n"
          ]
        }
      ]
    }
  ]
}